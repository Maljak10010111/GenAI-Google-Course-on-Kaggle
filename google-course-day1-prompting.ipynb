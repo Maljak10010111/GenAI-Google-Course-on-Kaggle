{
 "cells": [
  {
   "cell_type": "code",
   "execution_count": 1,
   "metadata": {
    "_cell_guid": "b1076dfc-b9ad-4769-8c92-a6c4dae69d19",
    "_uuid": "8f2839f25d086af736a60e9eeb907d3b93b6e0e5",
    "execution": {
     "iopub.execute_input": "2024-11-11T13:33:27.757458Z",
     "iopub.status.busy": "2024-11-11T13:33:27.756978Z",
     "iopub.status.idle": "2024-11-11T13:33:28.171111Z",
     "shell.execute_reply": "2024-11-11T13:33:28.170034Z",
     "shell.execute_reply.started": "2024-11-11T13:33:27.757412Z"
    },
    "trusted": true
   },
   "outputs": [],
   "source": [
    "# This Python 3 environment comes with many helpful analytics libraries installed\n",
    "# It is defined by the kaggle/python Docker image: https://github.com/kaggle/docker-python\n",
    "# For example, here's several helpful packages to load\n",
    "\n",
    "import numpy as np # linear algebra\n",
    "import pandas as pd # data processing, CSV file I/O (e.g. pd.read_csv)\n",
    "\n",
    "# Input data files are available in the read-only \"../input/\" directory\n",
    "# For example, running this (by clicking run or pressing Shift+Enter) will list all files under the input directory\n",
    "\n",
    "import os\n",
    "for dirname, _, filenames in os.walk('/kaggle/input'):\n",
    "    for filename in filenames:\n",
    "        print(os.path.join(dirname, filename))\n",
    "\n",
    "# You can write up to 20GB to the current directory (/kaggle/working/) that gets preserved as output when you create a version using \"Save & Run All\" \n",
    "# You can also write temporary files to /kaggle/temp/, but they won't be saved outside of the current session"
   ]
  },
  {
   "cell_type": "code",
   "execution_count": 1,
   "metadata": {
    "execution": {
     "iopub.execute_input": "2024-11-11T13:53:14.192256Z",
     "iopub.status.busy": "2024-11-11T13:53:14.191810Z",
     "iopub.status.idle": "2024-11-11T13:53:26.364134Z",
     "shell.execute_reply": "2024-11-11T13:53:26.362646Z",
     "shell.execute_reply.started": "2024-11-11T13:53:14.192210Z"
    },
    "trusted": true
   },
   "outputs": [
    {
     "name": "stdout",
     "output_type": "stream",
     "text": [
      "Note: you may need to restart the kernel to use updated packages.\n"
     ]
    }
   ],
   "source": [
    "%pip install -U -q \"google-generativeai>=0.8.3\""
   ]
  },
  {
   "cell_type": "code",
   "execution_count": 2,
   "metadata": {
    "execution": {
     "iopub.execute_input": "2024-11-11T13:53:31.607744Z",
     "iopub.status.busy": "2024-11-11T13:53:31.606758Z",
     "iopub.status.idle": "2024-11-11T13:53:32.278327Z",
     "shell.execute_reply": "2024-11-11T13:53:32.277284Z",
     "shell.execute_reply.started": "2024-11-11T13:53:31.607696Z"
    },
    "trusted": true
   },
   "outputs": [],
   "source": [
    "import google.generativeai as genai\n",
    "from IPython.display import HTML, Markdown, display"
   ]
  },
  {
   "cell_type": "code",
   "execution_count": 3,
   "metadata": {
    "execution": {
     "iopub.execute_input": "2024-11-11T13:53:34.693346Z",
     "iopub.status.busy": "2024-11-11T13:53:34.692514Z",
     "iopub.status.idle": "2024-11-11T13:53:34.866520Z",
     "shell.execute_reply": "2024-11-11T13:53:34.865481Z",
     "shell.execute_reply.started": "2024-11-11T13:53:34.693301Z"
    },
    "trusted": true
   },
   "outputs": [],
   "source": [
    "from kaggle_secrets import UserSecretsClient\n",
    "\n",
    "GOOGLE_API_KEY = UserSecretsClient().get_secret(\"GOOGLE_API_KEY\")\n",
    "genai.configure(api_key=GOOGLE_API_KEY)"
   ]
  },
  {
   "cell_type": "code",
   "execution_count": 10,
   "metadata": {
    "execution": {
     "iopub.execute_input": "2024-11-11T13:56:36.566062Z",
     "iopub.status.busy": "2024-11-11T13:56:36.565635Z",
     "iopub.status.idle": "2024-11-11T13:56:38.487449Z",
     "shell.execute_reply": "2024-11-11T13:56:38.485955Z",
     "shell.execute_reply.started": "2024-11-11T13:56:36.566025Z"
    },
    "trusted": true
   },
   "outputs": [
    {
     "name": "stdout",
     "output_type": "stream",
     "text": [
      "Imagine you have a really smart robot friend. It's not like a toy robot that just moves around, this robot can think and learn! \n",
      "\n",
      "That's kind of like AI, or Artificial Intelligence. It's like a computer program that can learn things like a person can.  \n",
      "\n",
      "Think about how you learn to play a game. You try different things, see what works, and get better over time. AI does the same thing, but it can learn much faster than you! \n",
      "\n",
      "AI can learn things like:\n",
      "\n",
      "* **Playing games:**  An AI can learn to beat you at chess or even video games! \n",
      "* **Recognizing pictures:** AI can look at a picture and tell you what's in it.\n",
      "* **Speaking different languages:**  AI can translate what you say in one language to another.\n",
      "* **Writing stories:** Some AI can even write stories, poems, or even songs! \n",
      "\n",
      "AI is still being developed, so it's not perfect yet. But it's already doing amazing things, and it's getting smarter all the time!  \n",
      "\n"
     ]
    }
   ],
   "source": [
    "flash = genai.GenerativeModel('gemini-1.5-flash')\n",
    "response = flash.generate_content(\"Explain AI to me like I'm a kid.\")\n",
    "print(response.text)"
   ]
  },
  {
   "cell_type": "code",
   "execution_count": 11,
   "metadata": {
    "execution": {
     "iopub.execute_input": "2024-11-11T13:56:41.669407Z",
     "iopub.status.busy": "2024-11-11T13:56:41.668975Z",
     "iopub.status.idle": "2024-11-11T13:56:41.677203Z",
     "shell.execute_reply": "2024-11-11T13:56:41.676099Z",
     "shell.execute_reply.started": "2024-11-11T13:56:41.669364Z"
    },
    "trusted": true
   },
   "outputs": [
    {
     "data": {
      "text/markdown": [
       "Imagine you have a really smart robot friend. It's not like a toy robot that just moves around, this robot can think and learn! \n",
       "\n",
       "That's kind of like AI, or Artificial Intelligence. It's like a computer program that can learn things like a person can.  \n",
       "\n",
       "Think about how you learn to play a game. You try different things, see what works, and get better over time. AI does the same thing, but it can learn much faster than you! \n",
       "\n",
       "AI can learn things like:\n",
       "\n",
       "* **Playing games:**  An AI can learn to beat you at chess or even video games! \n",
       "* **Recognizing pictures:** AI can look at a picture and tell you what's in it.\n",
       "* **Speaking different languages:**  AI can translate what you say in one language to another.\n",
       "* **Writing stories:** Some AI can even write stories, poems, or even songs! \n",
       "\n",
       "AI is still being developed, so it's not perfect yet. But it's already doing amazing things, and it's getting smarter all the time!  \n"
      ],
      "text/plain": [
       "<IPython.core.display.Markdown object>"
      ]
     },
     "execution_count": 11,
     "metadata": {},
     "output_type": "execute_result"
    }
   ],
   "source": [
    "Markdown(response.text)"
   ]
  },
  {
   "cell_type": "code",
   "execution_count": 14,
   "metadata": {
    "execution": {
     "iopub.execute_input": "2024-11-11T13:57:31.357801Z",
     "iopub.status.busy": "2024-11-11T13:57:31.357409Z",
     "iopub.status.idle": "2024-11-11T13:57:31.829485Z",
     "shell.execute_reply": "2024-11-11T13:57:31.828185Z",
     "shell.execute_reply.started": "2024-11-11T13:57:31.357766Z"
    },
    "trusted": true
   },
   "outputs": [
    {
     "name": "stdout",
     "output_type": "stream",
     "text": [
      "Hello Zlork! It's nice to meet you. What can I do for you today? 😊 \n",
      "\n"
     ]
    }
   ],
   "source": [
    "chat = flash.start_chat(history=[])\n",
    "response = chat.send_message('Hello! My name is Zlork.')\n",
    "print(response.text)"
   ]
  },
  {
   "cell_type": "code",
   "execution_count": 15,
   "metadata": {
    "execution": {
     "iopub.execute_input": "2024-11-11T13:57:35.283782Z",
     "iopub.status.busy": "2024-11-11T13:57:35.283388Z",
     "iopub.status.idle": "2024-11-11T13:57:36.990006Z",
     "shell.execute_reply": "2024-11-11T13:57:36.988609Z",
     "shell.execute_reply.started": "2024-11-11T13:57:35.283746Z"
    },
    "trusted": true
   },
   "outputs": [
    {
     "name": "stdout",
     "output_type": "stream",
     "text": [
      "You bet!  Dinosaurs are fascinating creatures, and there's a lot to know about them. Here's one cool fact: \n",
      "\n",
      "**Did you know that some dinosaurs had feathers?** \n",
      "\n",
      "That's right!  While many dinosaurs are depicted as scaly, scientists have discovered fossils of dinosaurs like Velociraptor and Microraptor with clear evidence of feathers. This discovery has changed our understanding of how dinosaurs evolved and what they looked like. \n",
      "\n",
      "What else would you like to know about dinosaurs? Perhaps you'd like to hear about:\n",
      "\n",
      "* **The biggest dinosaurs:**  We'll talk about giants like Argentinosaurus!\n",
      "* **The smallest dinosaurs:**  There were tiny feathered dinosaurs that were the size of a bird.\n",
      "* **Dinosaur diets:**  Some were meat-eaters, others were herbivores, and some even had diets like modern birds.\n",
      "* **The extinction event:**  We'll discuss the asteroid impact that wiped out the dinosaurs.\n",
      "\n",
      "Let me know what piques your interest! 🦖 \n",
      "\n"
     ]
    }
   ],
   "source": [
    "response = chat.send_message('Can you tell something interesting about dinosaurs?')\n",
    "print(response.text)"
   ]
  },
  {
   "cell_type": "code",
   "execution_count": 11,
   "metadata": {
    "execution": {
     "iopub.execute_input": "2024-11-11T13:37:32.856176Z",
     "iopub.status.busy": "2024-11-11T13:37:32.855680Z",
     "iopub.status.idle": "2024-11-11T13:37:33.330459Z",
     "shell.execute_reply": "2024-11-11T13:37:33.329228Z",
     "shell.execute_reply.started": "2024-11-11T13:37:32.856130Z"
    },
    "trusted": true
   },
   "outputs": [
    {
     "name": "stdout",
     "output_type": "stream",
     "text": [
      "Of course, Zlork! I remember your name. 😊  I'm always happy to see you! \n",
      "\n"
     ]
    }
   ],
   "source": [
    "response = chat.send_message('Do you remember what my name is?')\n",
    "print(response.text)"
   ]
  },
  {
   "cell_type": "code",
   "execution_count": 12,
   "metadata": {
    "execution": {
     "iopub.execute_input": "2024-11-11T13:37:52.530928Z",
     "iopub.status.busy": "2024-11-11T13:37:52.530093Z",
     "iopub.status.idle": "2024-11-11T13:37:52.986722Z",
     "shell.execute_reply": "2024-11-11T13:37:52.985376Z",
     "shell.execute_reply.started": "2024-11-11T13:37:52.530877Z"
    },
    "trusted": true
   },
   "outputs": [
    {
     "name": "stdout",
     "output_type": "stream",
     "text": [
      "models/chat-bison-001\n",
      "models/text-bison-001\n",
      "models/embedding-gecko-001\n",
      "models/gemini-1.0-pro-latest\n",
      "models/gemini-1.0-pro\n",
      "models/gemini-pro\n",
      "models/gemini-1.0-pro-001\n",
      "models/gemini-1.0-pro-vision-latest\n",
      "models/gemini-pro-vision\n",
      "models/gemini-1.5-pro-latest\n",
      "models/gemini-1.5-pro-001\n",
      "models/gemini-1.5-pro-002\n",
      "models/gemini-1.5-pro\n",
      "models/gemini-1.5-pro-exp-0801\n",
      "models/gemini-1.5-pro-exp-0827\n",
      "models/gemini-1.5-flash-latest\n",
      "models/gemini-1.5-flash-001\n",
      "models/gemini-1.5-flash-001-tuning\n",
      "models/gemini-1.5-flash\n",
      "models/gemini-1.5-flash-exp-0827\n",
      "models/gemini-1.5-flash-002\n",
      "models/gemini-1.5-flash-8b\n",
      "models/gemini-1.5-flash-8b-001\n",
      "models/gemini-1.5-flash-8b-latest\n",
      "models/gemini-1.5-flash-8b-exp-0827\n",
      "models/gemini-1.5-flash-8b-exp-0924\n",
      "models/embedding-001\n",
      "models/text-embedding-004\n",
      "models/aqa\n"
     ]
    }
   ],
   "source": [
    "for model in genai.list_models():\n",
    "  print(model.name)"
   ]
  },
  {
   "cell_type": "code",
   "execution_count": 16,
   "metadata": {
    "execution": {
     "iopub.execute_input": "2024-11-11T13:58:06.219478Z",
     "iopub.status.busy": "2024-11-11T13:58:06.219003Z",
     "iopub.status.idle": "2024-11-11T13:58:06.418049Z",
     "shell.execute_reply": "2024-11-11T13:58:06.416537Z",
     "shell.execute_reply.started": "2024-11-11T13:58:06.219429Z"
    },
    "trusted": true
   },
   "outputs": [
    {
     "name": "stdout",
     "output_type": "stream",
     "text": [
      "Model(name='models/gemini-1.5-flash',\n",
      "      base_model_id='',\n",
      "      version='001',\n",
      "      display_name='Gemini 1.5 Flash',\n",
      "      description='Fast and versatile multimodal model for scaling across diverse tasks',\n",
      "      input_token_limit=1000000,\n",
      "      output_token_limit=8192,\n",
      "      supported_generation_methods=['generateContent', 'countTokens'],\n",
      "      temperature=1.0,\n",
      "      max_temperature=2.0,\n",
      "      top_p=0.95,\n",
      "      top_k=40)\n"
     ]
    }
   ],
   "source": [
    "for model in genai.list_models():\n",
    "  if model.name == 'models/gemini-1.5-flash':\n",
    "    print(model)\n",
    "    break"
   ]
  },
  {
   "cell_type": "code",
   "execution_count": 17,
   "metadata": {
    "execution": {
     "iopub.execute_input": "2024-11-11T13:58:18.698884Z",
     "iopub.status.busy": "2024-11-11T13:58:18.698468Z",
     "iopub.status.idle": "2024-11-11T13:58:19.991745Z",
     "shell.execute_reply": "2024-11-11T13:58:19.990504Z",
     "shell.execute_reply.started": "2024-11-11T13:58:18.698835Z"
    },
    "trusted": true
   },
   "outputs": [
    {
     "name": "stdout",
     "output_type": "stream",
     "text": [
      "## More Than Just a Snack: The Enduring Importance of Olives in Modern Society\n",
      "\n",
      "Olives, those small, wrinkled fruits with a distinctively salty tang, have long been a staple in Mediterranean culture. Beyond their culinary role, however, olives hold a position of remarkable importance in modern society, impacting everything from the economy to environmental sustainability and even health.  This essay explores the multifaceted significance of olives in the 21st century, unveiling a story woven with ancient traditions, innovative technologies, and a vibrant future.\n",
      "\n",
      "**A Culinary Cornerstone: Flavor and Versatility**\n",
      "\n",
      "The Mediterranean diet, celebrated globally for its health benefits, features olives prominently. From the salty bite of Kalamata olives to the buttery richness of Manzanillo olives, their diverse varieties offer a spectrum of flavors that enhance dishes from simple salads to complex gourmet creations. Olives are more than just a snack; they are a culinary staple, adding depth and complexity to everything from pasta sauces and pizzas to tapenade and antipasti\n"
     ]
    }
   ],
   "source": [
    "short_model = genai.GenerativeModel(\n",
    "    'gemini-1.5-flash',\n",
    "    generation_config=genai.GenerationConfig(max_output_tokens=200))\n",
    "\n",
    "response = short_model.generate_content('Write a 1000 word essay on the importance of olives in modern society.')\n",
    "print(response.text)"
   ]
  },
  {
   "cell_type": "code",
   "execution_count": 18,
   "metadata": {
    "execution": {
     "iopub.execute_input": "2024-11-11T13:58:31.314850Z",
     "iopub.status.busy": "2024-11-11T13:58:31.314406Z",
     "iopub.status.idle": "2024-11-11T13:58:32.220669Z",
     "shell.execute_reply": "2024-11-11T13:58:32.219464Z",
     "shell.execute_reply.started": "2024-11-11T13:58:31.314799Z"
    },
    "trusted": true
   },
   "outputs": [
    {
     "name": "stdout",
     "output_type": "stream",
     "text": [
      "A tiny fruit, a silver sheen,\n",
      "A taste of sun, a verdant scene.\n",
      "From ancient groves to modern plate,\n",
      "The olive's gift, we celebrate.\n",
      "\n",
      "It graces salads, bright and bold,\n",
      "In savory pies, a story told.\n",
      "As oil it flows, a liquid gold,\n",
      "Health and flavor, stories unfold.\n",
      "\n",
      "From Mediterranean shores it came,\n",
      "A symbol now, a whispered name.\n",
      "The olive's power, far and wide,\n",
      "A humble gift, we can't hide. \n",
      "\n"
     ]
    }
   ],
   "source": [
    "response = short_model.generate_content('Write a short poem on the importance of olives in modern society.')\n",
    "print(response.text)"
   ]
  },
  {
   "cell_type": "markdown",
   "metadata": {},
   "source": [
    "**Top-K and top-P**\n",
    "\n",
    "\n",
    "Like temperature, top-K and top-P parameters are also used to control the diversity of the model's output.\n",
    "\n",
    "Top-K is a positive integer that defines the number of most probable tokens from which to select the output token. A top-K of 1 selects a single token, performing greedy decoding.\n",
    "\n",
    "Top-P defines the probability threshold that, once cumulatively exceeded, tokens stop being selected as candidates. A top-P of 0 is typically equivalent to greedy decoding, and a top-P of 1 typically selects every token in the model's vocabulary.\n",
    "\n",
    "When both are supplied, the Gemini API will filter top-K tokens first, then top-P and then finally sample from the candidate tokens using the supplied temperature.\n",
    "\n",
    "Run this example a number of times, change the settings and observe the change in output."
   ]
  },
  {
   "cell_type": "code",
   "execution_count": 20,
   "metadata": {
    "execution": {
     "iopub.execute_input": "2024-11-11T13:59:30.733828Z",
     "iopub.status.busy": "2024-11-11T13:59:30.733394Z",
     "iopub.status.idle": "2024-11-11T13:59:33.550479Z",
     "shell.execute_reply": "2024-11-11T13:59:33.549207Z",
     "shell.execute_reply.started": "2024-11-11T13:59:30.733786Z"
    },
    "trusted": true
   },
   "outputs": [
    {
     "name": "stdout",
     "output_type": "stream",
     "text": [
      "Bartholomew, a ginger tabby with a penchant for mischief, wasn't your average house cat. He craved adventure. The world beyond the windowsill, with its enticing smells and mysterious rustling, beckoned him. One day, while his humans were busy with their own affairs, Bartholomew saw his opportunity. He slipped through an open window, a thrill of anticipation tingling down his whiskers.\n",
      "\n",
      "He landed softly on the warm pavement, a bustling street teeming with life. He sniffed the air, a kaleidoscope of scents overwhelming him - hot dog stands, exhaust fumes, and the sweet aroma of freshly baked bread. A plump pigeon strutted by, its feathers gleaming in the sunlight. Bartholomew, with a predatory gleam in his eye, stalked it, his every move silent and fluid. Just as he was about to pounce, a loud honk startled him. He scrambled under a parked car, his heart pounding.\n",
      "\n",
      "He emerged from his hiding place to find himself in a small, quiet alleyway. It was a hidden world of discarded treasures: old newspapers, rusty cans, and a discarded box overflowing with colorful yarn balls. He spent the afternoon batting at the yarn, weaving intricate patterns with his paws. \n",
      "\n",
      "As the sun began to set, a soft, sweet melody drifted from a nearby window. He followed the sound, his eyes widening at the sight. A little girl, no older than five, was playing the piano, her tiny fingers dancing across the keys. Bartholomew, mesmerized, sat on the windowsill, his tail twitching with delight. The music filled him with a strange feeling, something akin to contentment. \n",
      "\n",
      "The music stopped abruptly, and the girl turned, her eyes widening in surprise. \"Hello,\" she said shyly. \"Are you lost?\"\n",
      "\n",
      "Bartholomew purred, rubbing against her hand. The girl giggled, scratching him behind the ears. He knew, in that moment, that he was not lost, but found. Found in a world of adventure, but also in the simple joy of a shared moment with a kindred spirit.\n",
      "\n",
      "As the girl’s parents called her inside, Bartholomew watched her go, a newfound sense of calm settling over him. He wasn't just a house cat anymore. He was an explorer, a musician, a friend. And he knew, with a certainty that warmed him from the inside, that this was just the beginning of his many adventures. \n",
      "\n"
     ]
    }
   ],
   "source": [
    "model = genai.GenerativeModel(\n",
    "    'gemini-1.5-flash-001',\n",
    "    generation_config=genai.GenerationConfig(\n",
    "        # These are the default values for gemini-1.5-flash-001.\n",
    "        temperature=1.0,\n",
    "        top_k=64,\n",
    "        top_p=0.95,\n",
    "    ))\n",
    "\n",
    "story_prompt = \"You are a creative writer. Write a short story about a cat who goes on an adventure.\"\n",
    "response = model.generate_content(story_prompt)\n",
    "print(response.text)"
   ]
  },
  {
   "cell_type": "markdown",
   "metadata": {},
   "source": [
    "**Zero-shot**\n",
    "\n",
    "Zero-shot prompts are prompts that describe the request for the model directly."
   ]
  },
  {
   "cell_type": "code",
   "execution_count": 22,
   "metadata": {
    "execution": {
     "iopub.execute_input": "2024-11-11T14:02:30.719760Z",
     "iopub.status.busy": "2024-11-11T14:02:30.719248Z",
     "iopub.status.idle": "2024-11-11T14:02:31.367511Z",
     "shell.execute_reply": "2024-11-11T14:02:31.365818Z",
     "shell.execute_reply.started": "2024-11-11T14:02:30.719717Z"
    },
    "trusted": true
   },
   "outputs": [
    {
     "name": "stdout",
     "output_type": "stream",
     "text": [
      "Sentiment: **POSITIVE**\n"
     ]
    }
   ],
   "source": [
    "model = genai.GenerativeModel(\n",
    "    'gemini-1.5-flash-001',\n",
    "    generation_config=genai.GenerationConfig(\n",
    "        temperature=0.1,\n",
    "        top_p=1,\n",
    "        max_output_tokens=5,\n",
    "    ))\n",
    "\n",
    "zero_shot_prompt = \"\"\"Classify movie reviews as POSITIVE, NEUTRAL or NEGATIVE.\n",
    "Review: \"Her\" is a disturbing study revealing the direction\n",
    "humanity is headed if AI is allowed to keep evolving,\n",
    "unchecked. I wish there were more movies like this masterpiece.\n",
    "Sentiment: \"\"\"\n",
    "\n",
    "response = model.generate_content(zero_shot_prompt)\n",
    "print(response.text)"
   ]
  },
  {
   "cell_type": "markdown",
   "metadata": {},
   "source": [
    "**Enum mode**\n",
    "\n",
    "\n",
    "The models are trained to generate text, and can sometimes produce more text than you may wish for. In the preceding example, the model will output the label, sometimes it can include a preceding \"Sentiment\" label, and without an output token limit, it may also add explanatory text afterwards.\n",
    "\n",
    "The Gemini API has an Enum mode feature that allows you to constrain the output to a fixed set of values."
   ]
  },
  {
   "cell_type": "code",
   "execution_count": 23,
   "metadata": {
    "execution": {
     "iopub.execute_input": "2024-11-11T14:04:06.889439Z",
     "iopub.status.busy": "2024-11-11T14:04:06.888236Z",
     "iopub.status.idle": "2024-11-11T14:04:07.769560Z",
     "shell.execute_reply": "2024-11-11T14:04:07.768150Z",
     "shell.execute_reply.started": "2024-11-11T14:04:06.889385Z"
    },
    "trusted": true
   },
   "outputs": [
    {
     "name": "stdout",
     "output_type": "stream",
     "text": [
      "positive\n"
     ]
    }
   ],
   "source": [
    "import enum\n",
    "\n",
    "class Sentiment(enum.Enum):\n",
    "    POSITIVE = \"positive\"\n",
    "    NEUTRAL = \"neutral\"\n",
    "    NEGATIVE = \"negative\"\n",
    "\n",
    "\n",
    "model = genai.GenerativeModel(\n",
    "    'gemini-1.5-flash-001',\n",
    "    generation_config=genai.GenerationConfig(\n",
    "        response_mime_type=\"text/x.enum\",\n",
    "        response_schema=Sentiment\n",
    "    ))\n",
    "\n",
    "response = model.generate_content(zero_shot_prompt)\n",
    "print(response.text)"
   ]
  },
  {
   "cell_type": "markdown",
   "metadata": {},
   "source": [
    "**One-shot and few-shot**\n",
    "\n",
    "\n",
    "Providing an example of the expected response is known as a \"one-shot\" prompt. When you provide multiple examples, it is a \"few-shot\" prompt."
   ]
  },
  {
   "cell_type": "code",
   "execution_count": 24,
   "metadata": {
    "execution": {
     "iopub.execute_input": "2024-11-11T14:04:57.953639Z",
     "iopub.status.busy": "2024-11-11T14:04:57.951866Z",
     "iopub.status.idle": "2024-11-11T14:04:59.621391Z",
     "shell.execute_reply": "2024-11-11T14:04:59.620016Z",
     "shell.execute_reply.started": "2024-11-11T14:04:57.953581Z"
    },
    "trusted": true
   },
   "outputs": [
    {
     "name": "stdout",
     "output_type": "stream",
     "text": [
      "```json\n",
      "{\n",
      "\"size\": \"large\",\n",
      "\"type\": \"normal\",\n",
      "\"ingredients\": [\"cheese\", \"pineapple\"]\n",
      "}\n",
      "``` \n",
      "\n"
     ]
    }
   ],
   "source": [
    "model = genai.GenerativeModel(\n",
    "    'gemini-1.5-flash-latest',\n",
    "    generation_config=genai.GenerationConfig(\n",
    "        temperature=0.1,\n",
    "        top_p=1,\n",
    "        max_output_tokens=250,\n",
    "    ))\n",
    "\n",
    "few_shot_prompt = \"\"\"Parse a customer's pizza order into valid JSON:\n",
    "\n",
    "EXAMPLE:\n",
    "I want a small pizza with cheese, tomato sauce, and pepperoni.\n",
    "JSON Response:\n",
    "```\n",
    "{\n",
    "\"size\": \"small\",\n",
    "\"type\": \"normal\",\n",
    "\"ingredients\": [\"cheese\", \"tomato sauce\", \"peperoni\"]\n",
    "}\n",
    "```\n",
    "\n",
    "EXAMPLE:\n",
    "Can I get a large pizza with tomato sauce, basil and mozzarella\n",
    "JSON Response:\n",
    "```\n",
    "{\n",
    "\"size\": \"large\",\n",
    "\"type\": \"normal\",\n",
    "\"ingredients\": [\"tomato sauce\", \"basil\", \"mozzarella\"]\n",
    "}\n",
    "\n",
    "ORDER:\n",
    "\"\"\"\n",
    "\n",
    "customer_order = \"Give me a large with cheese & pineapple\"\n",
    "\n",
    "\n",
    "response = model.generate_content([few_shot_prompt, customer_order])\n",
    "print(response.text)"
   ]
  },
  {
   "cell_type": "markdown",
   "metadata": {},
   "source": [
    "**JSON mode**\n",
    "\n",
    "\n",
    "To provide control over the schema, and to ensure that you only receive JSON (with no other text or markdown), you can use the Gemini API's JSON mode. This forces the model to constrain decoding, such that token selection is guided by the supplied schema."
   ]
  },
  {
   "cell_type": "code",
   "execution_count": 25,
   "metadata": {
    "execution": {
     "iopub.execute_input": "2024-11-11T14:07:11.437745Z",
     "iopub.status.busy": "2024-11-11T14:07:11.437339Z",
     "iopub.status.idle": "2024-11-11T14:07:11.971500Z",
     "shell.execute_reply": "2024-11-11T14:07:11.970176Z",
     "shell.execute_reply.started": "2024-11-11T14:07:11.437704Z"
    },
    "trusted": true
   },
   "outputs": [
    {
     "name": "stdout",
     "output_type": "stream",
     "text": [
      "{\"ingredients\": [\"apple\", \"chocolate\"], \"size\": \"large\", \"type\": \"dessert\"}\n",
      "\n"
     ]
    }
   ],
   "source": [
    "import typing_extensions as typing\n",
    "\n",
    "class PizzaOrder(typing.TypedDict):\n",
    "    size: str\n",
    "    ingredients: list[str]\n",
    "    type: str\n",
    "\n",
    "\n",
    "model = genai.GenerativeModel(\n",
    "    'gemini-1.5-flash-latest',\n",
    "    generation_config=genai.GenerationConfig(\n",
    "        temperature=0.1,\n",
    "        response_mime_type=\"application/json\",\n",
    "        response_schema=PizzaOrder,\n",
    "    ))\n",
    "\n",
    "response = model.generate_content(\"Can I have a large dessert pizza with apple and chocolate\")\n",
    "print(response.text)"
   ]
  },
  {
   "cell_type": "markdown",
   "metadata": {},
   "source": [
    "**Chain of Thought (CoT)**\n",
    "\n",
    "\n",
    "Direct prompting on LLMs can return answers quickly and (in terms of output token usage) efficiently, but they can be prone to hallucination. The answer may \"look\" correct (in terms of language and syntax) but is incorrect in terms of factuality and reasoning.\n",
    "\n",
    "Chain-of-Thought prompting is a technique where you instruct the model to output intermediate reasoning steps, and it typically gets better results, especially when combined with few-shot examples. It is worth noting that this technique doesn't completely eliminate hallucinations, and that it tends to cost more to run, due to the increased token count.\n",
    "\n",
    "As models like the Gemini family are trained to be \"chatty\" and provide reasoning steps, you can ask the model to be more direct in the prompt."
   ]
  },
  {
   "cell_type": "code",
   "execution_count": 26,
   "metadata": {
    "execution": {
     "iopub.execute_input": "2024-11-11T14:08:30.340906Z",
     "iopub.status.busy": "2024-11-11T14:08:30.340458Z",
     "iopub.status.idle": "2024-11-11T14:08:30.798542Z",
     "shell.execute_reply": "2024-11-11T14:08:30.796981Z",
     "shell.execute_reply.started": "2024-11-11T14:08:30.340866Z"
    },
    "trusted": true
   },
   "outputs": [
    {
     "name": "stdout",
     "output_type": "stream",
     "text": [
      "31 \n",
      "\n"
     ]
    }
   ],
   "source": [
    "prompt = \"\"\"When I was 4 years old, my partner was 3 times my age. Now, I\n",
    "am 20 years old. How old is my partner? Return the answer immediately.\"\"\"\n",
    "\n",
    "model = genai.GenerativeModel('gemini-1.5-flash-latest')\n",
    "response = model.generate_content(prompt)\n",
    "\n",
    "print(response.text)"
   ]
  },
  {
   "cell_type": "code",
   "execution_count": 27,
   "metadata": {
    "execution": {
     "iopub.execute_input": "2024-11-11T14:09:08.184759Z",
     "iopub.status.busy": "2024-11-11T14:09:08.184318Z",
     "iopub.status.idle": "2024-11-11T14:09:09.196290Z",
     "shell.execute_reply": "2024-11-11T14:09:09.194869Z",
     "shell.execute_reply.started": "2024-11-11T14:09:08.184713Z"
    },
    "trusted": true
   },
   "outputs": [
    {
     "name": "stdout",
     "output_type": "stream",
     "text": [
      "Here's how we can solve this:\n",
      "\n",
      "* **When you were 4, your partner was 3 times your age:** This means your partner was 4 * 3 = 12 years old.\n",
      "* **The age difference between you and your partner:**  Your partner was 12 - 4 = 8 years older than you.\n",
      "* **The age difference remains the same:**  Even though you've both aged, the age difference stays constant.\n",
      "* **Your partner's current age:** Since you are now 20, and your partner is 8 years older, your partner is 20 + 8 = 28 years old. \n",
      "\n"
     ]
    }
   ],
   "source": [
    "prompt = \"\"\"When I was 4 years old, my partner was 3 times my age. Now,\n",
    "I am 20 years old. How old is my partner? Let's think step by step.\"\"\"\n",
    "\n",
    "response = model.generate_content(prompt)\n",
    "print(response.text)"
   ]
  },
  {
   "cell_type": "code",
   "execution_count": 29,
   "metadata": {
    "execution": {
     "iopub.execute_input": "2024-11-11T14:10:07.595033Z",
     "iopub.status.busy": "2024-11-11T14:10:07.594048Z",
     "iopub.status.idle": "2024-11-11T14:10:07.602714Z",
     "shell.execute_reply": "2024-11-11T14:10:07.601663Z",
     "shell.execute_reply.started": "2024-11-11T14:10:07.594974Z"
    },
    "trusted": true
   },
   "outputs": [
    {
     "data": {
      "text/markdown": [
       "Here's how we can solve this:\n",
       "\n",
       "* **When you were 4, your partner was 3 times your age:** This means your partner was 4 * 3 = 12 years old.\n",
       "* **The age difference between you and your partner:**  Your partner was 12 - 4 = 8 years older than you.\n",
       "* **The age difference remains the same:**  Even though you've both aged, the age difference stays constant.\n",
       "* **Your partner's current age:** Since you are now 20, and your partner is 8 years older, your partner is 20 + 8 = 28 years old. \n"
      ],
      "text/plain": [
       "<IPython.core.display.Markdown object>"
      ]
     },
     "execution_count": 29,
     "metadata": {},
     "output_type": "execute_result"
    }
   ],
   "source": [
    "Markdown(response.text)"
   ]
  },
  {
   "cell_type": "markdown",
   "metadata": {},
   "source": []
  },
  {
   "cell_type": "markdown",
   "metadata": {},
   "source": [
    "**ReAct: Reason and act**\n",
    "\n",
    "\n",
    "In this example you will run a ReAct prompt directly in the Gemini API and perform the searching steps yourself. As this prompt follows a well-defined structure, there are frameworks available that wrap the prompt into easier-to-use APIs that make tool calls automatically, such as the LangChain example from the chapter."
   ]
  },
  {
   "cell_type": "code",
   "execution_count": 32,
   "metadata": {
    "execution": {
     "iopub.execute_input": "2024-11-11T14:12:24.171877Z",
     "iopub.status.busy": "2024-11-11T14:12:24.171425Z",
     "iopub.status.idle": "2024-11-11T14:12:24.179209Z",
     "shell.execute_reply": "2024-11-11T14:12:24.177874Z",
     "shell.execute_reply.started": "2024-11-11T14:12:24.171832Z"
    },
    "trusted": true
   },
   "outputs": [],
   "source": [
    "model_instructions = \"\"\"\n",
    "Solve a question answering task with interleaving Thought, Action, Observation steps. Thought can reason about the current situation,\n",
    "Observation is understanding relevant information from an Action's output and Action can be one of three types:\n",
    " (1) <search>entity</search>, which searches the exact entity on Wikipedia and returns the first paragraph if it exists. If not, it\n",
    "     will return some similar entities to search and you can try to search the information from those topics.\n",
    " (2) <lookup>keyword</lookup>, which returns the next sentence containing keyword in the current context. This only does exact matches,\n",
    "     so keep your searches short.\n",
    " (3) <finish>answer</finish>, which returns the answer and finishes the task.\n",
    "\"\"\"\n",
    "\n",
    "example1 = \"\"\"Question\n",
    "Musician and satirist Allie Goertz wrote a song about the \"The Simpsons\" character Milhouse, who Matt Groening named after who?\n",
    "\n",
    "Thought 1\n",
    "The question simplifies to \"The Simpsons\" character Milhouse is named after who. I only need to search Milhouse and find who it is named after.\n",
    "\n",
    "Action 1\n",
    "<search>Milhouse</search>\n",
    "\n",
    "Observation 1\n",
    "Milhouse Mussolini Van Houten is a recurring character in the Fox animated television series The Simpsons voiced by Pamela Hayden and created by Matt Groening.\n",
    "\n",
    "Thought 2\n",
    "The paragraph does not tell who Milhouse is named after, maybe I can look up \"named after\".\n",
    "\n",
    "Action 2\n",
    "<lookup>named after</lookup>\n",
    "\n",
    "Observation 2\n",
    "Milhouse was named after U.S. president Richard Nixon, whose middle name was Milhous.\n",
    "\n",
    "Thought 3\n",
    "Milhouse was named after U.S. president Richard Nixon, so the answer is Richard Nixon.\n",
    "\n",
    "Action 3\n",
    "<finish>Richard Nixon</finish>\n",
    "\"\"\"\n",
    "\n",
    "example2 = \"\"\"Question\n",
    "What is the elevation range for the area that the eastern sector of the Colorado orogeny extends into?\n",
    "\n",
    "Thought 1\n",
    "I need to search Colorado orogeny, find the area that the eastern sector of the Colorado orogeny extends into, then find the elevation range of the area.\n",
    "\n",
    "Action 1\n",
    "<search>Colorado orogeny</search>\n",
    "\n",
    "Observation 1\n",
    "The Colorado orogeny was an episode of mountain building (an orogeny) in Colorado and surrounding areas.\n",
    "\n",
    "Thought 2\n",
    "It does not mention the eastern sector. So I need to look up eastern sector.\n",
    "\n",
    "Action 2\n",
    "<lookup>eastern sector</lookup>\n",
    "\n",
    "Observation 2\n",
    "The eastern sector extends into the High Plains and is called the Central Plains orogeny.\n",
    "\n",
    "Thought 3\n",
    "The eastern sector of Colorado orogeny extends into the High Plains. So I need to search High Plains and find its elevation range.\n",
    "\n",
    "Action 3\n",
    "<search>High Plains</search>\n",
    "\n",
    "Observation 3\n",
    "High Plains refers to one of two distinct land regions\n",
    "\n",
    "Thought 4\n",
    "I need to instead search High Plains (United States).\n",
    "\n",
    "Action 4\n",
    "<search>High Plains (United States)</search>\n",
    "\n",
    "Observation 4\n",
    "The High Plains are a subregion of the Great Plains. From east to west, the High Plains rise in elevation from around 1,800 to 7,000 ft (550 to 2,130m).\n",
    "\n",
    "Thought 5\n",
    "High Plains rise in elevation from around 1,800 to 7,000 ft, so the answer is 1,800 to 7,000 ft.\n",
    "\n",
    "Action 5\n",
    "<finish>1,800 to 7,000 ft</finish>\n",
    "\"\"\""
   ]
  },
  {
   "cell_type": "code",
   "execution_count": 33,
   "metadata": {
    "execution": {
     "iopub.execute_input": "2024-11-11T14:12:47.747349Z",
     "iopub.status.busy": "2024-11-11T14:12:47.746906Z",
     "iopub.status.idle": "2024-11-11T14:12:50.881706Z",
     "shell.execute_reply": "2024-11-11T14:12:50.880357Z",
     "shell.execute_reply.started": "2024-11-11T14:12:47.747308Z"
    },
    "trusted": true
   },
   "outputs": [
    {
     "name": "stdout",
     "output_type": "stream",
     "text": [
      "Thought 1\n",
      "I need to find the transformers NLP paper, and then look for the authors. After finding the authors, I can determine who the youngest is.\n",
      "\n",
      "Action 1\n",
      "<search>transformers NLP paper</search>\n",
      "\n"
     ]
    }
   ],
   "source": [
    "question = \"\"\"Question\n",
    "Who was the youngest author listed on the transformers NLP paper?\n",
    "\"\"\"\n",
    "\n",
    "model = genai.GenerativeModel('gemini-1.5-flash-latest')\n",
    "react_chat = model.start_chat()\n",
    "\n",
    "# You will perform the Action, so generate up to, but not including, the Observation.\n",
    "config = genai.GenerationConfig(stop_sequences=[\"\\nObservation\"])\n",
    "\n",
    "resp = react_chat.send_message(\n",
    "    [model_instructions, example1, example2, question],\n",
    "    generation_config=config)\n",
    "print(resp.text)"
   ]
  },
  {
   "cell_type": "code",
   "execution_count": 34,
   "metadata": {
    "execution": {
     "iopub.execute_input": "2024-11-11T14:13:41.668249Z",
     "iopub.status.busy": "2024-11-11T14:13:41.667814Z",
     "iopub.status.idle": "2024-11-11T14:13:42.332356Z",
     "shell.execute_reply": "2024-11-11T14:13:42.331105Z",
     "shell.execute_reply.started": "2024-11-11T14:13:41.668207Z"
    },
    "trusted": true
   },
   "outputs": [
    {
     "name": "stdout",
     "output_type": "stream",
     "text": [
      "Thought 2\n",
      "The observation gives me the authors of the paper. Now I need to find who is the youngest.\n",
      "\n",
      "Action 2\n",
      "<finish>I do not have enough information to answer the question. The paper only lists the authors and does not mention their ages.</finish> \n",
      "\n"
     ]
    }
   ],
   "source": [
    "observation = \"\"\"Observation 1\n",
    "[1706.03762] Attention Is All You Need\n",
    "Ashish Vaswani, Noam Shazeer, Niki Parmar, Jakob Uszkoreit, Llion Jones, Aidan N. Gomez, Lukasz Kaiser, Illia Polosukhin\n",
    "We propose a new simple network architecture, the Transformer, based solely on attention mechanisms, dispensing with recurrence and convolutions entirely.\n",
    "\"\"\"\n",
    "resp = react_chat.send_message(observation, generation_config=config)\n",
    "print(resp.text)"
   ]
  },
  {
   "cell_type": "markdown",
   "metadata": {},
   "source": [
    "**Generating code**\n",
    "\n",
    "\n",
    "The Gemini family of models can be used to generate code, configuration and scripts. Generating code can be helpful when learning to code, learning a new language or for rapidly generating a first draft.\n",
    "\n",
    "It's important to be aware that since LLMs can't reason, and can repeat training data, it's essential to read and test your code first, and comply with any relevant licenses."
   ]
  },
  {
   "cell_type": "code",
   "execution_count": 35,
   "metadata": {
    "execution": {
     "iopub.execute_input": "2024-11-11T14:14:51.285614Z",
     "iopub.status.busy": "2024-11-11T14:14:51.285144Z",
     "iopub.status.idle": "2024-11-11T14:14:51.754515Z",
     "shell.execute_reply": "2024-11-11T14:14:51.753159Z",
     "shell.execute_reply.started": "2024-11-11T14:14:51.285571Z"
    },
    "trusted": true
   },
   "outputs": [
    {
     "data": {
      "text/markdown": [
       "```python\n",
       "def factorial(n):\n",
       "  if n == 0:\n",
       "    return 1\n",
       "  else:\n",
       "    return n * factorial(n-1)\n",
       "```"
      ],
      "text/plain": [
       "<IPython.core.display.Markdown object>"
      ]
     },
     "execution_count": 35,
     "metadata": {},
     "output_type": "execute_result"
    }
   ],
   "source": [
    "model = genai.GenerativeModel(\n",
    "    'gemini-1.5-flash-latest',\n",
    "    generation_config=genai.GenerationConfig(\n",
    "        temperature=1,\n",
    "        top_p=1,\n",
    "        max_output_tokens=1024,\n",
    "    ))\n",
    "\n",
    "# Gemini 1.5 models are very chatty, so it helps to specify they stick to the code.\n",
    "code_prompt = \"\"\"\n",
    "Write a Python function to calculate the factorial of a number. No explanation, provide only the code.\n",
    "\"\"\"\n",
    "\n",
    "response = model.generate_content(code_prompt)\n",
    "Markdown(response.text)"
   ]
  },
  {
   "cell_type": "code",
   "execution_count": 37,
   "metadata": {
    "execution": {
     "iopub.execute_input": "2024-11-11T14:15:22.554163Z",
     "iopub.status.busy": "2024-11-11T14:15:22.553698Z",
     "iopub.status.idle": "2024-11-11T14:15:28.026378Z",
     "shell.execute_reply": "2024-11-11T14:15:28.025167Z",
     "shell.execute_reply.started": "2024-11-11T14:15:22.554120Z"
    },
    "trusted": true
   },
   "outputs": [
    {
     "data": {
      "text/markdown": [
       "I will calculate the sum of the first 14 odd prime numbers.\n",
       "\n",
       "\n",
       "``` python\n",
       "import sympy\n",
       "\n",
       "primes = [prime for prime in sympy.primerange(2, 50) if prime % 2 != 0]\n",
       "print(f'{primes=}')\n",
       "sum_of_primes = sum(primes[:14])\n",
       "print(f'{sum_of_primes=}')\n",
       "\n",
       "```\n",
       "```\n",
       "primes=[3, 5, 7, 11, 13, 17, 19, 23, 29, 31, 37, 41, 43, 47]\n",
       "sum_of_primes=326\n",
       "\n",
       "```\n",
       "The sum of the first 14 odd primes is 326. \n"
      ],
      "text/plain": [
       "<IPython.core.display.Markdown object>"
      ]
     },
     "execution_count": 37,
     "metadata": {},
     "output_type": "execute_result"
    }
   ],
   "source": [
    "model = genai.GenerativeModel(\n",
    "    'gemini-1.5-flash-latest',\n",
    "    tools='code_execution')\n",
    "\n",
    "code_exec_prompt = \"\"\"\n",
    "Calculate the sum of the first 14 prime numbers. Only consider the odd primes, and make sure you get them all.\n",
    "\"\"\"\n",
    "\n",
    "response = model.generate_content(code_exec_prompt)\n",
    "Markdown(response.text)"
   ]
  },
  {
   "cell_type": "code",
   "execution_count": 38,
   "metadata": {
    "execution": {
     "iopub.execute_input": "2024-11-11T14:16:29.743500Z",
     "iopub.status.busy": "2024-11-11T14:16:29.743032Z",
     "iopub.status.idle": "2024-11-11T14:16:29.750690Z",
     "shell.execute_reply": "2024-11-11T14:16:29.749414Z",
     "shell.execute_reply.started": "2024-11-11T14:16:29.743458Z"
    },
    "trusted": true
   },
   "outputs": [
    {
     "name": "stdout",
     "output_type": "stream",
     "text": [
      "text: \"I will calculate the sum of the first 14 odd prime numbers.\\n\\n\"\n",
      "\n",
      "-----\n",
      "executable_code {\n",
      "  language: PYTHON\n",
      "  code: \"\\nimport sympy\\n\\nprimes = [prime for prime in sympy.primerange(2, 50) if prime % 2 != 0]\\nprint(f\\'{primes=}\\')\\nsum_of_primes = sum(primes[:14])\\nprint(f\\'{sum_of_primes=}\\')\\n\"\n",
      "}\n",
      "\n",
      "-----\n",
      "code_execution_result {\n",
      "  outcome: OUTCOME_OK\n",
      "  output: \"primes=[3, 5, 7, 11, 13, 17, 19, 23, 29, 31, 37, 41, 43, 47]\\nsum_of_primes=326\\n\"\n",
      "}\n",
      "\n",
      "-----\n",
      "text: \"The sum of the first 14 odd primes is 326. \\n\"\n",
      "\n",
      "-----\n"
     ]
    }
   ],
   "source": [
    "for part in response.candidates[0].content.parts:\n",
    "  print(part)\n",
    "  print(\"-----\")"
   ]
  },
  {
   "cell_type": "code",
   "execution_count": 39,
   "metadata": {
    "execution": {
     "iopub.execute_input": "2024-11-11T14:16:45.195050Z",
     "iopub.status.busy": "2024-11-11T14:16:45.194596Z",
     "iopub.status.idle": "2024-11-11T14:16:47.746570Z",
     "shell.execute_reply": "2024-11-11T14:16:47.745367Z",
     "shell.execute_reply.started": "2024-11-11T14:16:45.194999Z"
    },
    "trusted": true
   },
   "outputs": [
    {
     "data": {
      "text/markdown": [
       "This is a bash script (primarily for use with the Bash shell) that enhances your command line prompt to display information about the current Git repository. It essentially acts as a Git prompt plugin.\n",
       "\n",
       "Here's a breakdown of why you'd use it:\n",
       "\n",
       "* **Enhanced Prompt:** This script modifies your command prompt to show information like:\n",
       "    * The current Git branch name\n",
       "    * If you're ahead or behind the remote branch\n",
       "    * The number of staged, modified, and untracked files\n",
       "    * The username and repository name (optional)\n",
       "    * Optionally, information about your virtual environment (e.g., virtualenv, conda, etc.)\n",
       "\n",
       "* **Easy Git Status:**  You can quickly see the state of your Git repository without running `git status` every time.\n",
       "\n",
       "* **Customizability:**  It offers a wide range of settings to customize the look and feel of your prompt. You can choose colors, symbols, and even how much information you want to display.\n",
       "\n",
       "* **Themes:** You can choose from various pre-defined themes or even create your own custom theme.\n",
       "\n",
       "* **Remote Status:** It can automatically fetch changes from the remote repository at regular intervals, keeping your local prompt up-to-date.\n",
       "\n",
       "**In short, this script provides a powerful and configurable way to integrate Git information into your command prompt, making it easier to work with your repositories.** \n"
      ],
      "text/plain": [
       "<IPython.core.display.Markdown object>"
      ]
     },
     "execution_count": 39,
     "metadata": {},
     "output_type": "execute_result"
    }
   ],
   "source": [
    "file_contents = !curl https://raw.githubusercontent.com/magicmonty/bash-git-prompt/refs/heads/master/gitprompt.sh\n",
    "\n",
    "explain_prompt = f\"\"\"\n",
    "Please explain what this file does at a very high level. What is it, and why would I use it?\n",
    "\n",
    "```\n",
    "{file_contents}\n",
    "```\n",
    "\"\"\"\n",
    "\n",
    "model = genai.GenerativeModel('gemini-1.5-flash-latest')\n",
    "\n",
    "response = model.generate_content(explain_prompt)\n",
    "Markdown(response.text)"
   ]
  }
 ],
 "metadata": {
  "kaggle": {
   "accelerator": "none",
   "dataSources": [],
   "dockerImageVersionId": 30786,
   "isGpuEnabled": false,
   "isInternetEnabled": true,
   "language": "python",
   "sourceType": "notebook"
  },
  "kernelspec": {
   "display_name": "Python 3",
   "language": "python",
   "name": "python3"
  },
  "language_info": {
   "codemirror_mode": {
    "name": "ipython",
    "version": 3
   },
   "file_extension": ".py",
   "mimetype": "text/x-python",
   "name": "python",
   "nbconvert_exporter": "python",
   "pygments_lexer": "ipython3",
   "version": "3.10.14"
  }
 },
 "nbformat": 4,
 "nbformat_minor": 4
}
